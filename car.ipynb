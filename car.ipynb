{
 "cells": [
  {
   "cell_type": "code",
   "execution_count": 1,
   "id": "3e4c413d",
   "metadata": {},
   "outputs": [],
   "source": [
    "import pandas as pd\n",
    "import matplotlib.pyplot as plt\n",
    "import numpy as np\n",
    "import seaborn as sns"
   ]
  },
  {
   "cell_type": "code",
   "execution_count": 2,
   "id": "60cda21b",
   "metadata": {},
   "outputs": [],
   "source": [
    "car_df=pd.read_csv(r'C:\\\\Users\\HP\\Downloads\\Car_Purchasing_Data.csv')"
   ]
  },
  {
   "cell_type": "code",
   "execution_count": 3,
   "id": "afb5698f",
   "metadata": {},
   "outputs": [
    {
     "data": {
      "text/html": [
       "<div>\n",
       "<style scoped>\n",
       "    .dataframe tbody tr th:only-of-type {\n",
       "        vertical-align: middle;\n",
       "    }\n",
       "\n",
       "    .dataframe tbody tr th {\n",
       "        vertical-align: top;\n",
       "    }\n",
       "\n",
       "    .dataframe thead th {\n",
       "        text-align: right;\n",
       "    }\n",
       "</style>\n",
       "<table border=\"1\" class=\"dataframe\">\n",
       "  <thead>\n",
       "    <tr style=\"text-align: right;\">\n",
       "      <th></th>\n",
       "      <th>Gender</th>\n",
       "      <th>Age</th>\n",
       "      <th>Annual Salary</th>\n",
       "      <th>Credit Card Debt</th>\n",
       "      <th>Net Worth</th>\n",
       "      <th>Car Purchase Amount</th>\n",
       "    </tr>\n",
       "  </thead>\n",
       "  <tbody>\n",
       "    <tr>\n",
       "      <th>count</th>\n",
       "      <td>500.000000</td>\n",
       "      <td>500.000000</td>\n",
       "      <td>500.000000</td>\n",
       "      <td>500.000000</td>\n",
       "      <td>500.000000</td>\n",
       "      <td>500.000000</td>\n",
       "    </tr>\n",
       "    <tr>\n",
       "      <th>mean</th>\n",
       "      <td>0.506000</td>\n",
       "      <td>46.241674</td>\n",
       "      <td>62127.239608</td>\n",
       "      <td>9607.645049</td>\n",
       "      <td>431475.713625</td>\n",
       "      <td>44209.799218</td>\n",
       "    </tr>\n",
       "    <tr>\n",
       "      <th>std</th>\n",
       "      <td>0.500465</td>\n",
       "      <td>7.978862</td>\n",
       "      <td>11703.378228</td>\n",
       "      <td>3489.187973</td>\n",
       "      <td>173536.756340</td>\n",
       "      <td>10773.178744</td>\n",
       "    </tr>\n",
       "    <tr>\n",
       "      <th>min</th>\n",
       "      <td>0.000000</td>\n",
       "      <td>20.000000</td>\n",
       "      <td>20000.000000</td>\n",
       "      <td>100.000000</td>\n",
       "      <td>20000.000000</td>\n",
       "      <td>9000.000000</td>\n",
       "    </tr>\n",
       "    <tr>\n",
       "      <th>25%</th>\n",
       "      <td>0.000000</td>\n",
       "      <td>40.949969</td>\n",
       "      <td>54391.977195</td>\n",
       "      <td>7397.515792</td>\n",
       "      <td>299824.195900</td>\n",
       "      <td>37629.896040</td>\n",
       "    </tr>\n",
       "    <tr>\n",
       "      <th>50%</th>\n",
       "      <td>1.000000</td>\n",
       "      <td>46.049901</td>\n",
       "      <td>62915.497035</td>\n",
       "      <td>9655.035568</td>\n",
       "      <td>426750.120650</td>\n",
       "      <td>43997.783390</td>\n",
       "    </tr>\n",
       "    <tr>\n",
       "      <th>75%</th>\n",
       "      <td>1.000000</td>\n",
       "      <td>51.612263</td>\n",
       "      <td>70117.862005</td>\n",
       "      <td>11798.867487</td>\n",
       "      <td>557324.478725</td>\n",
       "      <td>51254.709517</td>\n",
       "    </tr>\n",
       "    <tr>\n",
       "      <th>max</th>\n",
       "      <td>1.000000</td>\n",
       "      <td>70.000000</td>\n",
       "      <td>100000.000000</td>\n",
       "      <td>20000.000000</td>\n",
       "      <td>1000000.000000</td>\n",
       "      <td>80000.000000</td>\n",
       "    </tr>\n",
       "  </tbody>\n",
       "</table>\n",
       "</div>"
      ],
      "text/plain": [
       "           Gender         Age  Annual Salary  Credit Card Debt  \\\n",
       "count  500.000000  500.000000     500.000000        500.000000   \n",
       "mean     0.506000   46.241674   62127.239608       9607.645049   \n",
       "std      0.500465    7.978862   11703.378228       3489.187973   \n",
       "min      0.000000   20.000000   20000.000000        100.000000   \n",
       "25%      0.000000   40.949969   54391.977195       7397.515792   \n",
       "50%      1.000000   46.049901   62915.497035       9655.035568   \n",
       "75%      1.000000   51.612263   70117.862005      11798.867487   \n",
       "max      1.000000   70.000000  100000.000000      20000.000000   \n",
       "\n",
       "            Net Worth  Car Purchase Amount  \n",
       "count      500.000000           500.000000  \n",
       "mean    431475.713625         44209.799218  \n",
       "std     173536.756340         10773.178744  \n",
       "min      20000.000000          9000.000000  \n",
       "25%     299824.195900         37629.896040  \n",
       "50%     426750.120650         43997.783390  \n",
       "75%     557324.478725         51254.709517  \n",
       "max    1000000.000000         80000.000000  "
      ]
     },
     "execution_count": 3,
     "metadata": {},
     "output_type": "execute_result"
    }
   ],
   "source": [
    "car_df.describe()"
   ]
  },
  {
   "cell_type": "code",
   "execution_count": 5,
   "id": "2aad63e4",
   "metadata": {},
   "outputs": [
    {
     "name": "stdout",
     "output_type": "stream",
     "text": [
      "<class 'pandas.core.frame.DataFrame'>\n",
      "RangeIndex: 500 entries, 0 to 499\n",
      "Data columns (total 9 columns):\n",
      " #   Column               Non-Null Count  Dtype  \n",
      "---  ------               --------------  -----  \n",
      " 0   Customer Name        500 non-null    object \n",
      " 1   Customer e-mail      500 non-null    object \n",
      " 2   Country              500 non-null    object \n",
      " 3   Gender               500 non-null    int64  \n",
      " 4   Age                  500 non-null    float64\n",
      " 5   Annual Salary        500 non-null    float64\n",
      " 6   Credit Card Debt     500 non-null    float64\n",
      " 7   Net Worth            500 non-null    float64\n",
      " 8   Car Purchase Amount  500 non-null    float64\n",
      "dtypes: float64(5), int64(1), object(3)\n",
      "memory usage: 35.3+ KB\n"
     ]
    }
   ],
   "source": [
    "car_df.info()"
   ]
  },
  {
   "cell_type": "code",
   "execution_count": 6,
   "id": "7876a0c3",
   "metadata": {},
   "outputs": [
    {
     "data": {
      "text/plain": [
       "Customer Name          0\n",
       "Customer e-mail        0\n",
       "Country                0\n",
       "Gender                 0\n",
       "Age                    0\n",
       "Annual Salary          0\n",
       "Credit Card Debt       0\n",
       "Net Worth              0\n",
       "Car Purchase Amount    0\n",
       "dtype: int64"
      ]
     },
     "execution_count": 6,
     "metadata": {},
     "output_type": "execute_result"
    }
   ],
   "source": [
    "car_df.isnull().sum()"
   ]
  },
  {
   "cell_type": "code",
   "execution_count": 7,
   "id": "5bec03e5",
   "metadata": {},
   "outputs": [],
   "source": [
    "from sklearn.preprocessing import MinMaxScaler"
   ]
  },
  {
   "cell_type": "code",
   "execution_count": 8,
   "id": "b0d1df39",
   "metadata": {},
   "outputs": [
    {
     "data": {
      "text/plain": [
       "Index(['Customer Name', 'Customer e-mail', 'Country', 'Gender', 'Age',\n",
       "       'Annual Salary', 'Credit Card Debt', 'Net Worth',\n",
       "       'Car Purchase Amount'],\n",
       "      dtype='object')"
      ]
     },
     "execution_count": 8,
     "metadata": {},
     "output_type": "execute_result"
    }
   ],
   "source": [
    "car_df.columns"
   ]
  },
  {
   "cell_type": "code",
   "execution_count": 11,
   "id": "810c9448",
   "metadata": {},
   "outputs": [],
   "source": [
    "x=car_df.drop(['Customer Name','Customer e-mail','Country','Car Purchase Amount'],axis=1)"
   ]
  },
  {
   "cell_type": "code",
   "execution_count": 12,
   "id": "0897d2f5",
   "metadata": {},
   "outputs": [],
   "source": [
    "y=car_df['Car Purchase Amount']"
   ]
  },
  {
   "cell_type": "code",
   "execution_count": 13,
   "id": "b91e621c",
   "metadata": {},
   "outputs": [],
   "source": [
    "scale_x=MinMaxScaler()\n",
    "x_scaled=scale_x.fit_transform(x)"
   ]
  },
  {
   "cell_type": "code",
   "execution_count": 20,
   "id": "5881e6d7",
   "metadata": {},
   "outputs": [],
   "source": [
    "scale_y=MinMaxScaler()\n",
    "y=y.reshape(-1,1)\n",
    "y_scaled=scale_y.fit_transform(y)"
   ]
  },
  {
   "cell_type": "code",
   "execution_count": 21,
   "id": "42f29ad0",
   "metadata": {},
   "outputs": [],
   "source": [
    "from sklearn.model_selection import train_test_split"
   ]
  },
  {
   "cell_type": "code",
   "execution_count": 22,
   "id": "1d860e57",
   "metadata": {},
   "outputs": [],
   "source": [
    "x_train,x_test,y_train,y_test=train_test_split(x_scaled,y_scaled,random_state=42,test_size=0.25)"
   ]
  },
  {
   "cell_type": "code",
   "execution_count": 23,
   "id": "c311d9ea",
   "metadata": {},
   "outputs": [],
   "source": [
    "from tensorflow import keras\n",
    "from keras.models import Sequential\n",
    "from keras.layers import Dense"
   ]
  },
  {
   "cell_type": "code",
   "execution_count": 24,
   "id": "cc6f9c43",
   "metadata": {},
   "outputs": [],
   "source": [
    "model=Sequential()\n",
    "model.add(Dense(25,input_dim=5,activation='relu'))\n",
    "model.add(Dense(25,activation='relu'))\n",
    "model.add(Dense(1,activation='linear'))"
   ]
  },
  {
   "cell_type": "code",
   "execution_count": 25,
   "id": "cebf8756",
   "metadata": {},
   "outputs": [
    {
     "name": "stdout",
     "output_type": "stream",
     "text": [
      "Model: \"sequential\"\n",
      "_________________________________________________________________\n",
      "Layer (type)                 Output Shape              Param #   \n",
      "=================================================================\n",
      "dense (Dense)                (None, 25)                150       \n",
      "_________________________________________________________________\n",
      "dense_1 (Dense)              (None, 25)                650       \n",
      "_________________________________________________________________\n",
      "dense_2 (Dense)              (None, 1)                 26        \n",
      "=================================================================\n",
      "Total params: 826\n",
      "Trainable params: 826\n",
      "Non-trainable params: 0\n",
      "_________________________________________________________________\n"
     ]
    }
   ],
   "source": [
    "model.summary()"
   ]
  },
  {
   "cell_type": "code",
   "execution_count": 33,
   "id": "a133bbf0",
   "metadata": {},
   "outputs": [],
   "source": [
    "model.compile(optimizer='adam',loss='mean_squared_error',metrics=['accuracy'])"
   ]
  },
  {
   "cell_type": "code",
   "execution_count": 35,
   "id": "3f0cb13c",
   "metadata": {},
   "outputs": [
    {
     "name": "stdout",
     "output_type": "stream",
     "text": [
      "Epoch 1/20\n",
      "12/12 [==============================] - 0s 6ms/step - loss: 3.6880e-05 - accuracy: 0.0033 - val_loss: 3.6470e-05 - val_accuracy: 0.0133\n",
      "Epoch 2/20\n",
      "12/12 [==============================] - 0s 4ms/step - loss: 3.0782e-05 - accuracy: 0.0033 - val_loss: 2.9825e-05 - val_accuracy: 0.0133\n",
      "Epoch 3/20\n",
      "12/12 [==============================] - 0s 4ms/step - loss: 2.9240e-05 - accuracy: 0.0033 - val_loss: 3.3214e-05 - val_accuracy: 0.0133\n",
      "Epoch 4/20\n",
      "12/12 [==============================] - 0s 4ms/step - loss: 3.0669e-05 - accuracy: 0.0033 - val_loss: 3.0915e-05 - val_accuracy: 0.0133\n",
      "Epoch 5/20\n",
      "12/12 [==============================] - 0s 4ms/step - loss: 2.9278e-05 - accuracy: 0.0033 - val_loss: 4.0865e-05 - val_accuracy: 0.0133\n",
      "Epoch 6/20\n",
      "12/12 [==============================] - 0s 4ms/step - loss: 3.0628e-05 - accuracy: 0.0033 - val_loss: 3.8689e-05 - val_accuracy: 0.0133\n",
      "Epoch 7/20\n",
      "12/12 [==============================] - 0s 3ms/step - loss: 2.6718e-05 - accuracy: 0.0033 - val_loss: 4.9939e-05 - val_accuracy: 0.0133\n",
      "Epoch 8/20\n",
      "12/12 [==============================] - 0s 3ms/step - loss: 3.7834e-05 - accuracy: 0.0033 - val_loss: 4.7981e-05 - val_accuracy: 0.0133\n",
      "Epoch 9/20\n",
      "12/12 [==============================] - 0s 3ms/step - loss: 2.7287e-05 - accuracy: 0.0033 - val_loss: 3.3492e-05 - val_accuracy: 0.0133\n",
      "Epoch 10/20\n",
      "12/12 [==============================] - 0s 3ms/step - loss: 2.6709e-05 - accuracy: 0.0033 - val_loss: 2.9413e-05 - val_accuracy: 0.0133\n",
      "Epoch 11/20\n",
      "12/12 [==============================] - 0s 4ms/step - loss: 2.4495e-05 - accuracy: 0.0033 - val_loss: 3.7167e-05 - val_accuracy: 0.0133\n",
      "Epoch 12/20\n",
      "12/12 [==============================] - 0s 3ms/step - loss: 3.3744e-05 - accuracy: 0.0033 - val_loss: 3.0676e-05 - val_accuracy: 0.0133\n",
      "Epoch 13/20\n",
      "12/12 [==============================] - 0s 3ms/step - loss: 2.2173e-05 - accuracy: 0.0033 - val_loss: 2.8662e-05 - val_accuracy: 0.0133\n",
      "Epoch 14/20\n",
      "12/12 [==============================] - 0s 2ms/step - loss: 2.1623e-05 - accuracy: 0.0033 - val_loss: 2.7992e-05 - val_accuracy: 0.0133\n",
      "Epoch 15/20\n",
      "12/12 [==============================] - 0s 2ms/step - loss: 2.5546e-05 - accuracy: 0.0033 - val_loss: 3.7978e-05 - val_accuracy: 0.0133\n",
      "Epoch 16/20\n",
      "12/12 [==============================] - 0s 2ms/step - loss: 2.8812e-05 - accuracy: 0.0033 - val_loss: 2.5625e-05 - val_accuracy: 0.0133\n",
      "Epoch 17/20\n",
      "12/12 [==============================] - 0s 3ms/step - loss: 1.9715e-05 - accuracy: 0.0033 - val_loss: 2.7515e-05 - val_accuracy: 0.0133\n",
      "Epoch 18/20\n",
      "12/12 [==============================] - 0s 2ms/step - loss: 1.9143e-05 - accuracy: 0.0033 - val_loss: 2.6912e-05 - val_accuracy: 0.0133\n",
      "Epoch 19/20\n",
      "12/12 [==============================] - 0s 2ms/step - loss: 1.9338e-05 - accuracy: 0.0033 - val_loss: 2.4896e-05 - val_accuracy: 0.0133\n",
      "Epoch 20/20\n",
      "12/12 [==============================] - 0s 2ms/step - loss: 1.9289e-05 - accuracy: 0.0033 - val_loss: 2.3195e-05 - val_accuracy: 0.0133\n"
     ]
    }
   ],
   "source": [
    "epoch=model.fit(x_train,y_train,batch_size=25,epochs=20,validation_split=0.2)"
   ]
  },
  {
   "cell_type": "code",
   "execution_count": 37,
   "id": "e3ee96c6",
   "metadata": {},
   "outputs": [
    {
     "name": "stdout",
     "output_type": "stream",
     "text": [
      "dict_keys(['loss', 'accuracy', 'val_loss', 'val_accuracy'])\n"
     ]
    }
   ],
   "source": [
    "print(epoch.history.keys())"
   ]
  },
  {
   "cell_type": "code",
   "execution_count": 40,
   "id": "2a5487f9",
   "metadata": {},
   "outputs": [
    {
     "data": {
      "text/plain": [
       "<matplotlib.legend.Legend at 0x12f4826edf0>"
      ]
     },
     "execution_count": 40,
     "metadata": {},
     "output_type": "execute_result"
    },
    {
     "data": {
      "image/png": "[encoded data removed]",
      "text/plain": [
       "<Figure size 432x288 with 1 Axes>"
      ]
     },
     "metadata": {
      "needs_background": "light"
     },
     "output_type": "display_data"
    }
   ],
   "source": [
    "plt.plot(epoch.history['loss'])\n",
    "plt.plot(epoch.history['val_loss'])\n",
    "plt.title('model accuracy progretion during training/validation')\n",
    "plt.legend(['training loss','valid loss'])"
   ]
  },
  {
   "cell_type": "code",
   "execution_count": 41,
   "id": "66dc6e11",
   "metadata": {},
   "outputs": [
    {
     "name": "stdout",
     "output_type": "stream",
     "text": [
      "ur amount = [[35111.855]]\n"
     ]
    }
   ],
   "source": [
    "x_test_sample = np.array([[0, 0.4370344,  0.53515116, 0.57836085, 0.22342985]])\n",
    "y_predict=model.predict(x_test_sample)\n",
    "y_predict_orig=scale_y.inverse_transform(y_predict)\n",
    "print('ur amount =',y_predict_orig)"
   ]
  },
  {
   "cell_type": "code",
   "execution_count": null,
   "id": "f1d36bc7",
   "metadata": {},
   "outputs": [],
   "source": []
  }
 ],
 "metadata": {
  "kernelspec": {
   "display_name": "Python 3",
   "language": "python",
   "name": "python3"
  },
  "language_info": {
   "codemirror_mode": {
    "name": "ipython",
    "version": 3
   },
   "file_extension": ".py",
   "mimetype": "text/x-python",
   "name": "python",
   "nbconvert_exporter": "python",
   "pygments_lexer": "ipython3",
   "version": "3.8.8"
  }
 },
 "nbformat": 4,
 "nbformat_minor": 5
}
